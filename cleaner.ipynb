{
 "cells": [
  {
   "cell_type": "code",
   "execution_count": 1,
   "metadata": {},
   "outputs": [
    {
     "name": "stdout",
     "output_type": "stream",
     "text": [
      "Numero de documentos: 11225\n"
     ]
    }
   ],
   "source": [
    "#verificar com o ayres [[]] aninhado\n",
    "\n",
    "import json\n",
    "import re\n",
    "\n",
    "data = []\n",
    "with open('dump_small.jsonln', 'r') as file:\n",
    "    for line in file:\n",
    "        data.append(json.loads(line))\n",
    "        \n",
    "print(f'Numero de documentos: {len(data)}')"
   ]
  },
  {
   "cell_type": "code",
   "execution_count": 2,
   "metadata": {},
   "outputs": [],
   "source": [
    "#print(data[0].keys())"
   ]
  },
  {
   "cell_type": "code",
   "execution_count": 3,
   "metadata": {},
   "outputs": [],
   "source": [
    "#print(data[0]['title'])"
   ]
  },
  {
   "cell_type": "code",
   "execution_count": 4,
   "metadata": {},
   "outputs": [],
   "source": [
    "#print(data[0]['body'])"
   ]
  },
  {
   "cell_type": "markdown",
   "metadata": {},
   "source": [
    "---\n",
    "\n",
    "Como vocês podem ver, o texto está cheio de caracteres de estruturação de documento."
   ]
  },
  {
   "cell_type": "markdown",
   "metadata": {},
   "source": [
    "---\n",
    "\n",
    "**Atividade:** Consulte a documentação da Wikipedia para descobrir o que são as marcações `[[`, `]]`, `{{` e ```}}```"
   ]
  },
  {
   "cell_type": "markdown",
   "metadata": {},
   "source": [
    "**R:** O que está entre [[ ]] é um hypertexto. o que está entre {{}} é um supertexto (ex: aaaa², o 2 é um supertexto)"
   ]
  },
  {
   "cell_type": "markdown",
   "metadata": {},
   "source": [
    "---"
   ]
  },
  {
   "cell_type": "markdown",
   "metadata": {},
   "source": [
    "Vamos explorar o corpus para minerar itens de interesse."
   ]
  },
  {
   "cell_type": "markdown",
   "metadata": {},
   "source": [
    "**Exercicio:** Faça uma função que retorna uma lista com todos os links html de um texto deste corpus."
   ]
  },
  {
   "cell_type": "code",
   "execution_count": 5,
   "metadata": {},
   "outputs": [],
   "source": [
    "# def find_links(text):\n",
    "#     return re.findall(r'\\[\\[.+?\\]\\]', text)\n",
    "# find_links(\" evoluir.thumb|esquerda|300px|Primeira edi\\u00e7\\u00e3o do Unua Libro, em [[L\\u00edngua russa|russo]]O primeiro livro sobre o esperanto foi\")"
   ]
  },
  {
   "cell_type": "code",
   "execution_count": 6,
   "metadata": {},
   "outputs": [],
   "source": [
    "#print(find_links(data[2]['body']))"
   ]
  },
  {
   "cell_type": "markdown",
   "metadata": {},
   "source": [
    "**Exercicio:** Faça uma função que recebe um texto do corpus e substitui todas as ocorrências de links da Wikipedia (textos entre os tags `[[` e `]]`) por texto simples, e retorna o documento limpo. Por exemplo, quando encontrar algo como `[[Etimologia|Etimologicamente]]` substituir por `Etimologicamente`. Você pode supor que os links não são *aninháveis*, como por exemplo `[[blablabla[[etc]]blebleble]]`."
   ]
  },
  {
   "cell_type": "code",
   "execution_count": 7,
   "metadata": {},
   "outputs": [],
   "source": [
    "def replace_links(texto):\n",
    "    pattern = r'''\n",
    "        \\[\\[\n",
    "        (?:\n",
    "            [^|]*?\\|\n",
    "        )*?\n",
    "        (\n",
    "            [^|]*?\n",
    "        )\n",
    "        \\]\\]\n",
    "    '''\n",
    "    replacement = r'\\1' # primeiro grupo de captura\n",
    "    matcher = re.compile(pattern, re.VERBOSE)\n",
    "    return matcher.sub(replacement, texto)"
   ]
  },
  {
   "cell_type": "markdown",
   "metadata": {},
   "source": [
    "**Exercicio**: Faça uma função que recebe um texto do corpus e remove todas as ocorrências de referências (textos entre os tags `<ref>` e `</ref>`)."
   ]
  },
  {
   "cell_type": "code",
   "execution_count": 8,
   "metadata": {},
   "outputs": [],
   "source": [
    "def remove_ref(text):\n",
    "    return re.sub(r'<ref(?:.*)?>.*?(?:</ref>)?', '', text)"
   ]
  },
  {
   "cell_type": "code",
   "execution_count": 9,
   "metadata": {},
   "outputs": [],
   "source": [
    "def remove_math(text):\n",
    "    return re.sub(r'<math(?:.*)?>.*?(?:</math>)?', '', text)"
   ]
  },
  {
   "cell_type": "code",
   "execution_count": 10,
   "metadata": {},
   "outputs": [],
   "source": [
    "def remove_small(text):\n",
    "    return re.sub(r'<.*?>(.*?)<.*?>', r'\\1', text)"
   ]
  },
  {
   "cell_type": "code",
   "execution_count": 11,
   "metadata": {},
   "outputs": [],
   "source": [
    "#replace vss sub\n",
    "def limpa_aspas(texto):\n",
    "    pattern = r\"\"\"(['\"]+)(.*?)\\1\"\"\"\n",
    "    matcher = re.compile(pattern)\n",
    "    return matcher.sub(r'\\2', texto)"
   ]
  },
  {
   "cell_type": "code",
   "execution_count": 12,
   "metadata": {},
   "outputs": [],
   "source": [
    "def remove_endline(text):\n",
    "    return text.replace('\\n','')"
   ]
  },
  {
   "cell_type": "code",
   "execution_count": 13,
   "metadata": {},
   "outputs": [],
   "source": [
    "def remove_double_equal(text):\n",
    "    return text.replace('==','')"
   ]
  },
  {
   "cell_type": "code",
   "execution_count": 14,
   "metadata": {},
   "outputs": [],
   "source": [
    "#Remove {}\n",
    "def limpa_chaves(texto):\n",
    "    pattern = r\"{.*?}\"\n",
    "    matcher = re.compile(pattern)\n",
    "    return matcher.sub('', texto)\n"
   ]
  },
  {
   "cell_type": "code",
   "execution_count": 15,
   "metadata": {},
   "outputs": [],
   "source": [
    "def limpa_colchete(texto):\n",
    "    pattern = r\"\\[.*?\\]\"\n",
    "    matcher = re.compile(pattern)\n",
    "    return matcher.sub('', texto)"
   ]
  },
  {
   "cell_type": "code",
   "execution_count": 16,
   "metadata": {},
   "outputs": [],
   "source": [
    "def limpa_obs(texto):\n",
    "    pattern = r\"<!--.*?-->\"\n",
    "    matcher = re.compile(pattern)\n",
    "    return matcher.sub('', texto)"
   ]
  },
  {
   "cell_type": "code",
   "execution_count": 21,
   "metadata": {},
   "outputs": [],
   "source": [
    "def remove_ast(texto):\n",
    "    texto = texto.replace(\"*\", \"\")\n",
    "    return texto"
   ]
  },
  {
   "cell_type": "code",
   "execution_count": 28,
   "metadata": {},
   "outputs": [
    {
     "data": {
      "text/plain": [
       "'o problema.Durante a adolescênci'"
      ]
     },
     "execution_count": 28,
     "metadata": {},
     "output_type": "execute_result"
    }
   ],
   "source": [
    "def remove_px(text):     \n",
    "    return re.sub(r\"(?:\\d+x)?\\d+px\", '', text)\n",
    "\n",
    "remove_px(\"o problema.624pxDurante a adolescênci\")"
   ]
  },
  {
   "cell_type": "markdown",
   "metadata": {},
   "source": [
    "**Exercicio:** Faça uma função que recebe um texto do corpus e remove todos os templates (textos entre os tags `{{` e `}}`). Este exercício é desafiante: *os templates podem ser aninhados*! E agora, como proceder?"
   ]
  },
  {
   "cell_type": "code",
   "execution_count": 18,
   "metadata": {},
   "outputs": [],
   "source": [
    "# def remove_templates(text):\n",
    "#     a = text\n",
    "#     while re.search(r'\\{\\{[^\\{\\{\\}\\}]*\\}\\}', a):\n",
    "#         to_replace = re.findall(r'\\{\\{[^\\{\\}]*\\}\\}', a)\n",
    "#         for i in to_replace:\n",
    "#             a = a.replace(i, '')\n",
    "    \n",
    "#     return a\n",
    "\n",
    "def remove_templates(texto):\n",
    "    conta = 0\n",
    "    spans_proibidos = []\n",
    "    for item in re.finditer(r'{{|}}', texto):\n",
    "        if item[0] == '{{':\n",
    "            if conta == 0:\n",
    "                inicio = item.span()[0]\n",
    "            conta += 1\n",
    "        else:\n",
    "            conta -= 1\n",
    "            if conta == 0:\n",
    "                fim = item.span()[1]\n",
    "                spans_proibidos.append((inicio, fim))\n",
    "\n",
    "    texto_limpo = ''\n",
    "    inicio = 0\n",
    "    for span in spans_proibidos:\n",
    "        fim, novo_inicio = span\n",
    "        texto_limpo += texto[inicio:fim]\n",
    "        inicio = novo_inicio\n",
    "    \n",
    "    texto_limpo += texto[inicio:]\n",
    "    return texto_limpo\n",
    "\n"
   ]
  },
  {
   "cell_type": "markdown",
   "metadata": {},
   "source": [
    "**Exercicio:** Usando os codigos desenvolvidos acima, faça uma função que recebe um texto do corpus e retorna a sua versão limpa."
   ]
  },
  {
   "cell_type": "code",
   "execution_count": 19,
   "metadata": {},
   "outputs": [],
   "source": [
    "def clear_text(text):\n",
    "    clean_links = replace_links(text)\n",
    "    remove_quotes = limpa_aspas(clean_links)\n",
    "    remove_ref_ = remove_ref(remove_quotes)\n",
    "    remove_endline_ = remove_endline(remove_ref_)\n",
    "    remove_double_equal_ = remove_double_equal(remove_endline_)\n",
    "    remove_templates_ = remove_templates(remove_double_equal_)\n",
    "    remove_math_ = remove_math(remove_templates_)\n",
    "    remove_small_ = remove_small(remove_math_)\n",
    "    remove_colchete_ = limpa_colchete(remove_small_)\n",
    "    limpa_obs_ = limpa_obs(remove_colchete_)\n",
    "    remove_ast_ = remove_ast(limpa_obs_)\n",
    "    remove_px_ = remove_px(remove_ast_)\n",
    "    return limpa_chaves(remove_px_)"
   ]
  },
  {
   "cell_type": "markdown",
   "metadata": {},
   "source": [
    "**Exercicio:** Limpe todos os documentos e explore os resultados para ver o que mais dá para limpar. Nosso objetivo é ter uma coletânea de textos limpos para poder criar um vocabulário da língua portuguesa!"
   ]
  },
  {
   "cell_type": "code",
   "execution_count": 20,
   "metadata": {},
   "outputs": [],
   "source": [
    "import json\n",
    "with open('dump_small_clean.jsonln', 'w', encoding=\"utf8\") as file:\n",
    "    for i in range(10):\n",
    "        json.dump({\"body\": clear_text(data[i]['body']), \"title\": data[i][\"title\"]}, file, ensure_ascii=False)"
   ]
  },
  {
   "cell_type": "code",
   "execution_count": null,
   "metadata": {},
   "outputs": [],
   "source": []
  },
  {
   "cell_type": "markdown",
   "metadata": {},
   "source": [
    "# Criando um tokenizador"
   ]
  },
  {
   "cell_type": "markdown",
   "metadata": {},
   "source": [
    "Agora que temos um conjunto de documentos limpos, vamos analisar esses documentos para:\n",
    "\n",
    "- Separar os documentos em palavras\n",
    "\n",
    "- Separar os documentos em frases"
   ]
  },
  {
   "cell_type": "markdown",
   "metadata": {},
   "source": [
    "**Exercicio:** Faça uma função que separa os documentos em palavras usando simplesmente os espaços em branco como indicador de separação."
   ]
  },
  {
   "cell_type": "code",
   "execution_count": null,
   "metadata": {},
   "outputs": [],
   "source": [
    "\n",
    "    "
   ]
  },
  {
   "cell_type": "markdown",
   "metadata": {},
   "source": [
    "**Exercicio:** Agora analise os resultados obtidos: essa separação em palavras está perfeita? Certamente não:\n",
    "\n",
    "- Um problema óbvio é o seguinte: palavras ao final de uma sentença podem carregar consigo a pontuação da frase. \n",
    "\n",
    "- Mais ainda, algumas palavras no meio das sentenças podem ter vírgula e ponto-e-vírgula juntos.\n",
    "\n",
    "- Sequências de emojis podem aparecer, e cada emoji deve ser considerado como uma palavra separada\n",
    "\n",
    "Faça uma função que recebe um documento e faz uma separação melhor."
   ]
  },
  {
   "cell_type": "code",
   "execution_count": 77,
   "metadata": {},
   "outputs": [
    {
     "name": "stdout",
     "output_type": "stream",
     "text": [
      "[('INTEGER', '45'), ('IDENTIFIER', 'pigéons'), ('PUNCTUATION', ','), ('INTEGER', '23'), ('IDENTIFIER', 'cows'), ('PUNCTUATION', ','), ('INTEGER', '11'), ('IDENTIFIER', 'spiders'), ('PUNCTUATION', '.')]\n"
     ]
    }
   ],
   "source": [
    "scanner=re.Scanner([\n",
    "  (r\"[0-9]+\",       lambda scanner,token:(\"INTEGER\", token)),\n",
    "  (r\"[\\w]+\",      lambda scanner,token:(\"IDENTIFIER\", token)),\n",
    "  (r\"[,.\\!\\?\\=-]+\",        lambda scanner,token:(\"PUNCTUATION\", token)),\n",
    "  (r\"[()\\[\\]{}\\\\]+\",        lambda scanner,token:(\"TRASH\", token)),\n",
    "  (r\"\\s+\", None), # None == skip token.\n",
    "], re.UNICODE)\n",
    " \n",
    "results, remainder=scanner.scan(\"45 pigéons, 23 cows, 11 spiders.\")\n",
    "print(results)\n",
    "\n"
   ]
  },
  {
   "cell_type": "code",
   "execution_count": null,
   "metadata": {},
   "outputs": [],
   "source": []
  }
 ],
 "metadata": {
  "kernelspec": {
   "display_name": "Python 3",
   "language": "python",
   "name": "python3"
  },
  "language_info": {
   "codemirror_mode": {
    "name": "ipython",
    "version": 3
   },
   "file_extension": ".py",
   "mimetype": "text/x-python",
   "name": "python",
   "nbconvert_exporter": "python",
   "pygments_lexer": "ipython3",
   "version": "3.8.2"
  }
 },
 "nbformat": 4,
 "nbformat_minor": 5
}
