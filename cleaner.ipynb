{
 "cells": [
  {
   "cell_type": "code",
   "execution_count": 88,
   "metadata": {},
   "outputs": [
    {
     "output_type": "stream",
     "name": "stdout",
     "text": [
      "Numero de documentos: 11225\n"
     ]
    }
   ],
   "source": [
    "#verificar com o ayres [[]] aninhado\n",
    "\n",
    "import json\n",
    "import re\n",
    "\n",
    "data = []\n",
    "with open('dump_small.jsonln', 'r') as file:\n",
    "    for line in file:\n",
    "        data.append(json.loads(line))\n",
    "        \n",
    "print(f'Numero de documentos: {len(data)}')"
   ]
  },
  {
   "cell_type": "code",
   "execution_count": 90,
   "metadata": {},
   "outputs": [],
   "source": [
    "#print(data[0].keys())"
   ]
  },
  {
   "cell_type": "code",
   "execution_count": 92,
   "metadata": {},
   "outputs": [],
   "source": [
    "#print(data[0]['title'])"
   ]
  },
  {
   "cell_type": "code",
   "execution_count": 94,
   "metadata": {},
   "outputs": [],
   "source": [
    "#print(data[0]['body'])"
   ]
  },
  {
   "cell_type": "markdown",
   "metadata": {},
   "source": [
    "---\n",
    "\n",
    "Como vocês podem ver, o texto está cheio de caracteres de estruturação de documento."
   ]
  },
  {
   "cell_type": "markdown",
   "metadata": {},
   "source": [
    "---\n",
    "\n",
    "**Atividade:** Consulte a documentação da Wikipedia para descobrir o que são as marcações `[[`, `]]`, `{{` e ```}}```"
   ]
  },
  {
   "cell_type": "markdown",
   "metadata": {},
   "source": [
    "**R:** O que está entre [[ ]] é um hypertexto. o que está entre {{}} é um supertexto (ex: aaaa², o 2 é um supertexto)"
   ]
  },
  {
   "cell_type": "markdown",
   "metadata": {},
   "source": [
    "---"
   ]
  },
  {
   "cell_type": "markdown",
   "metadata": {},
   "source": [
    "Vamos explorar o corpus para minerar itens de interesse."
   ]
  },
  {
   "cell_type": "markdown",
   "metadata": {},
   "source": [
    "**Exercicio:** Faça uma função que retorna uma lista com todos os links html de um texto deste corpus."
   ]
  },
  {
   "cell_type": "code",
   "execution_count": 96,
   "metadata": {},
   "outputs": [],
   "source": [
    "# def find_links(text):\n",
    "#     return re.findall(r'\\[\\[.+?\\]\\]', text)\n",
    "# find_links(\" evoluir.thumb|esquerda|300px|Primeira edi\\u00e7\\u00e3o do Unua Libro, em [[L\\u00edngua russa|russo]]O primeiro livro sobre o esperanto foi\")"
   ]
  },
  {
   "cell_type": "code",
   "execution_count": 98,
   "metadata": {},
   "outputs": [],
   "source": [
    "#print(find_links(data[2]['body']))"
   ]
  },
  {
   "cell_type": "markdown",
   "metadata": {},
   "source": [
    "**Exercicio:** Faça uma função que recebe um texto do corpus e substitui todas as ocorrências de links da Wikipedia (textos entre os tags `[[` e `]]`) por texto simples, e retorna o documento limpo. Por exemplo, quando encontrar algo como `[[Etimologia|Etimologicamente]]` substituir por `Etimologicamente`. Você pode supor que os links não são *aninháveis*, como por exemplo `[[blablabla[[etc]]blebleble]]`."
   ]
  },
  {
   "cell_type": "code",
   "execution_count": 100,
   "metadata": {},
   "outputs": [],
   "source": [
    "def replace_links(texto):\n",
    "    pattern = r'''\n",
    "        \\[\\[\n",
    "        (?:\n",
    "            [^|]*?\\|\n",
    "        )*?\n",
    "        (\n",
    "            [^|]*?\n",
    "        )\n",
    "        \\]\\]\n",
    "    '''\n",
    "    replacement = r'\\1' # primeiro grupo de captura\n",
    "    matcher = re.compile(pattern, re.VERBOSE)\n",
    "    return matcher.sub(replacement, texto)"
   ]
  },
  {
   "cell_type": "markdown",
   "metadata": {},
   "source": [
    "**Exercicio**: Faça uma função que recebe um texto do corpus e remove todas as ocorrências de referências (textos entre os tags `<ref>` e `</ref>`)."
   ]
  },
  {
   "cell_type": "code",
   "execution_count": 102,
   "metadata": {},
   "outputs": [],
   "source": [
    "def remove_ref(text):\n",
    "    return re.sub(r'<ref(?:.*)?>.*?(?:</ref>)?', '', text)"
   ]
  },
  {
   "cell_type": "code",
   "execution_count": 104,
   "metadata": {},
   "outputs": [],
   "source": [
    "def remove_math(text):\n",
    "    return re.sub(r'<math(?:.*)?>.*?(?:</math>)?', '', text)"
   ]
  },
  {
   "cell_type": "code",
   "execution_count": 106,
   "metadata": {},
   "outputs": [],
   "source": [
    "def remove_small(text):\n",
    "    return re.sub(r'<.*?>(.*?)<.*?>', r'\\1', text)"
   ]
  },
  {
   "cell_type": "code",
   "execution_count": 108,
   "metadata": {},
   "outputs": [],
   "source": [
    "#replace vss sub\n",
    "def limpa_aspas(texto):\n",
    "    pattern = r\"\"\"(['\"]+)(.*?)\\1\"\"\"\n",
    "    matcher = re.compile(pattern)\n",
    "    return matcher.sub(r'\\2', texto)"
   ]
  },
  {
   "cell_type": "code",
   "execution_count": 110,
   "metadata": {},
   "outputs": [],
   "source": [
    "def remove_equal(text):\n",
    "    return text.replace('=',' ') "
   ]
  },
  {
   "cell_type": "code",
   "execution_count": 112,
   "metadata": {},
   "outputs": [],
   "source": [
    "#Remove {}\n",
    "def limpa_chaves(texto):\n",
    "    pattern = r\"{.*?}\"\n",
    "    matcher = re.compile(pattern)\n",
    "    return matcher.sub('', texto)\n"
   ]
  },
  {
   "cell_type": "code",
   "execution_count": 114,
   "metadata": {},
   "outputs": [],
   "source": [
    "def limpa_colchete(texto):\n",
    "    pattern = r\"\\[.*?\\]\"\n",
    "    matcher = re.compile(pattern)\n",
    "    return matcher.sub('', texto)"
   ]
  },
  {
   "cell_type": "code",
   "execution_count": 116,
   "metadata": {},
   "outputs": [],
   "source": [
    "def limpa_obs(texto):\n",
    "    pattern = r\"<!--.*?-->\"\n",
    "    matcher = re.compile(pattern)\n",
    "    return matcher.sub('', texto)"
   ]
  },
  {
   "cell_type": "code",
   "execution_count": 118,
   "metadata": {},
   "outputs": [],
   "source": [
    "def remove_ast(texto):\n",
    "    texto = texto.replace(\"*\", \"\")\n",
    "    return texto"
   ]
  },
  {
   "cell_type": "code",
   "execution_count": 120,
   "metadata": {},
   "outputs": [
    {
     "output_type": "execute_result",
     "data": {
      "text/plain": [
       "'o problema. Durante a adolescênci'"
      ]
     },
     "metadata": {},
     "execution_count": 120
    }
   ],
   "source": [
    "def remove_px(text):     \n",
    "    return re.sub(r\"(?:\\d+x)?\\d+px\", ' ', text)\n",
    "\n",
    "remove_px(\"o problema.624pxDurante a adolescênci\")"
   ]
  },
  {
   "cell_type": "code",
   "execution_count": 122,
   "metadata": {},
   "outputs": [
    {
     "output_type": "execute_result",
     "data": {
      "text/plain": [
       "'Vista Alegre Sport Clube Beira-Mar'"
      ]
     },
     "metadata": {},
     "execution_count": 122
    }
   ],
   "source": [
    "def remove_dash(text):\n",
    "    return re.sub(r'\\s+[-–]\\s+', ' ', text)\n",
    "\n",
    "remove_dash(\"Vista - Alegre Sport Clube Beira-Mar\")"
   ]
  },
  {
   "cell_type": "code",
   "execution_count": 124,
   "metadata": {},
   "outputs": [],
   "source": [
    "def remove_remaining_brackets(text):\n",
    "    text = text.replace(']', '')\n",
    "    return text.replace('[', '')"
   ]
  },
  {
   "cell_type": "code",
   "execution_count": 126,
   "metadata": {},
   "outputs": [],
   "source": [
    "def remove_parenthesis(text):\n",
    "    text = text.replace('(', '')\n",
    "    return text.replace(')', '')"
   ]
  },
  {
   "cell_type": "code",
   "execution_count": 128,
   "metadata": {},
   "outputs": [],
   "source": [
    "def ignore_digits(text):\n",
    "    return re.sub('\\d+', '', text)"
   ]
  },
  {
   "cell_type": "markdown",
   "metadata": {},
   "source": [
    "**Exercicio:** Faça uma função que recebe um texto do corpus e remove todos os templates (textos entre os tags `{{` e `}}`). Este exercício é desafiante: *os templates podem ser aninhados*! E agora, como proceder?"
   ]
  },
  {
   "cell_type": "code",
   "execution_count": 130,
   "metadata": {},
   "outputs": [],
   "source": [
    "def remove_templates(text):\n",
    "    conta = 0\n",
    "    spans_proibidos = []\n",
    "    for item in re.finditer(r'{{|}}', text):\n",
    "        if item[0] == '{{':\n",
    "            if conta == 0:\n",
    "                inicio = item.span()[0]\n",
    "            conta += 1\n",
    "        else:\n",
    "            conta -= 1\n",
    "            if conta == 0:\n",
    "                fim = item.span()[1]\n",
    "                spans_proibidos.append((inicio, fim))\n",
    "\n",
    "    clean_text = ''\n",
    "    inicio = 0\n",
    "    for span in spans_proibidos:\n",
    "        fim, novo_inicio = span\n",
    "        clean_text += text[inicio:fim]\n",
    "        inicio = novo_inicio\n",
    "    \n",
    "    clean_text += text[inicio:]\n",
    "    return clean_text\n",
    "\n"
   ]
  },
  {
   "cell_type": "markdown",
   "metadata": {},
   "source": [
    "**Exercicio:** Usando os codigos desenvolvidos acima, faça uma função que recebe um texto do corpus e retorna a sua versão limpa."
   ]
  },
  {
   "cell_type": "code",
   "execution_count": 132,
   "metadata": {},
   "outputs": [],
   "source": [
    "def clear_text(text):\n",
    "    funcs = [\n",
    "        replace_links,\n",
    "        limpa_aspas,\n",
    "        remove_ref,\n",
    "        remove_equal,\n",
    "        remove_templates,\n",
    "        remove_math,\n",
    "        remove_small,\n",
    "        limpa_colchete,\n",
    "        remove_ast,\n",
    "        remove_px,\n",
    "        remove_dash,\n",
    "        remove_remaining_brackets,\n",
    "        remove_parenthesis,\n",
    "        ignore_digits,\n",
    "        limpa_chaves\n",
    "    ]\n",
    "    x = text\n",
    "    for func in funcs:\n",
    "        x = func(x)\n",
    "    return x"
   ]
  },
  {
   "cell_type": "markdown",
   "metadata": {},
   "source": [
    "**Exercicio:** Limpe todos os documentos e explore os resultados para ver o que mais dá para limpar. Nosso objetivo é ter uma coletânea de textos limpos para poder criar um vocabulário da língua portuguesa!"
   ]
  },
  {
   "cell_type": "code",
   "execution_count": 134,
   "metadata": {},
   "outputs": [],
   "source": [
    "import json\n",
    "with open('dump_small_clean.jsonln', 'w', encoding=\"utf8\") as file:\n",
    "    # for i in range(len(data)):\n",
    "    for i in range(10):\n",
    "        \n",
    "        json.dump({\"body\": clear_text(data[i]['body']), \"title\": data[i][\"title\"]}, file)\n",
    "        file.write('\\n')"
   ]
  },
  {
   "cell_type": "code",
   "execution_count": null,
   "metadata": {},
   "outputs": [],
   "source": []
  },
  {
   "cell_type": "markdown",
   "metadata": {},
   "source": [
    "# Criando um tokenizador"
   ]
  },
  {
   "cell_type": "code",
   "execution_count": 136,
   "metadata": {},
   "outputs": [],
   "source": [
    "# import nltk\n",
    "# nltk.download('punkt')"
   ]
  },
  {
   "cell_type": "code",
   "execution_count": 138,
   "metadata": {},
   "outputs": [],
   "source": [
    "data_clean = []\n",
    "with open('dump_small_clean.jsonln', 'r', encoding=\"utf8\") as file:\n",
    "    for line in file:\n",
    "        data_clean.append(json.loads(line))\n",
    "        "
   ]
  },
  {
   "cell_type": "code",
   "execution_count": 140,
   "metadata": {},
   "outputs": [],
   "source": [
    "from nltk import word_tokenize\n",
    "\n",
    "texto = clear_text(data[0]['body'])\n",
    "\n",
    "tokens = word_tokenize(texto)\n",
    "# tokens"
   ]
  },
  {
   "cell_type": "code",
   "execution_count": 142,
   "metadata": {},
   "outputs": [],
   "source": [
    "def clean_tokens(tokens):\n",
    "    return [w for w in tokens if re.fullmatch(r'\\w+', w)]"
   ]
  },
  {
   "cell_type": "code",
   "execution_count": 144,
   "metadata": {},
   "outputs": [],
   "source": [
    "tokens = clean_tokens(tokens)"
   ]
  },
  {
   "cell_type": "code",
   "execution_count": 146,
   "metadata": {},
   "outputs": [
    {
     "output_type": "stream",
     "name": "stderr",
     "text": [
      "100%|██████████| 10/10 [00:00<00:00, 29.29it/s]\n"
     ]
    }
   ],
   "source": [
    "from tqdm import tqdm\n",
    "all_words = []\n",
    "for item in tqdm(data_clean):\n",
    "    texto = item['body']\n",
    "    tokens = word_tokenize(texto)\n",
    "    tokens = clean_tokens(tokens)\n",
    "    all_words += tokens\n"
   ]
  },
  {
   "cell_type": "code",
   "execution_count": null,
   "metadata": {},
   "outputs": [],
   "source": []
  }
 ],
 "metadata": {
  "kernelspec": {
   "display_name": "Python 3",
   "language": "python",
   "name": "python3"
  },
  "language_info": {
   "codemirror_mode": {
    "name": "ipython",
    "version": 3
   },
   "file_extension": ".py",
   "mimetype": "text/x-python",
   "name": "python",
   "nbconvert_exporter": "python",
   "pygments_lexer": "ipython3",
   "version": "3.8.7-final"
  }
 },
 "nbformat": 4,
 "nbformat_minor": 5
}