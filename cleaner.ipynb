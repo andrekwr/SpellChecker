{
 "cells": [
  {
   "cell_type": "code",
   "execution_count": 1,
   "metadata": {},
   "outputs": [
    {
     "output_type": "stream",
     "name": "stdout",
     "text": [
      "Numero de documentos: 11225\n"
     ]
    }
   ],
   "source": [
    "import json\n",
    "import re\n",
    "\n",
    "data = []\n",
    "with open('dump_small.jsonln', 'r') as file:\n",
    "    for line in file:\n",
    "        data.append(json.loads(line))\n",
    "        \n",
    "print(f'Documents: {len(data)}')"
   ]
  },
  {
   "cell_type": "code",
   "execution_count": null,
   "metadata": {},
   "outputs": [],
   "source": []
  },
  {
   "source": [
    "## Functions to clean wikipedia's text."
   ],
   "cell_type": "markdown",
   "metadata": {}
  },
  {
   "cell_type": "code",
   "execution_count": 2,
   "metadata": {},
   "outputs": [],
   "source": [
    "def removeUrl(texto):\n",
    "    # https://www.geeksforgeeks.org/python-check-url-string/\n",
    "    pattern = r\"\"\"\n",
    "        (?i)\n",
    "        \\b  \n",
    "        (?:\n",
    "            https?://\n",
    "        |\n",
    "            www\n",
    "            \\d{0,3}\n",
    "            [.]\n",
    "        |\n",
    "            [a-z0-9.-]+\n",
    "            [.]\n",
    "            [a-z]{2,4}\n",
    "            /\n",
    "        )\n",
    "        (?:\n",
    "            [^\\s()<>]+\n",
    "        |\n",
    "            (\n",
    "            (?:\n",
    "                [^\\s()<>]+\n",
    "            |\n",
    "                (\n",
    "                [^\\s()<>]+\n",
    "                )\n",
    "            )*\n",
    "            )\n",
    "        )+\n",
    "        (?:\n",
    "            (\n",
    "            (?:\n",
    "                [^\\s()<>]+\n",
    "            |\n",
    "                (\n",
    "                [^\\s()<>]+\n",
    "                )\n",
    "            )*\n",
    "            )\n",
    "        |\n",
    "            [^\\s`!()[]{};:'\".,<>?«»“”‘’]\n",
    "        )\n",
    "    \"\"\"\n",
    "    repl = ''\n",
    "    matcher = re.compile(pattern, re.VERBOSE)\n",
    "    return matcher.sub(repl, texto)"
   ]
  },
  {
   "cell_type": "code",
   "execution_count": 3,
   "metadata": {},
   "outputs": [],
   "source": [
    "def removeWikipediaLinks(text):\n",
    "    pattern = r'\\[\\[(?:[^|]*?\\|)*?([^|]*?)\\]\\]'\n",
    "    repl = r'\\1'\n",
    "    matcher = re.compile(pattern)\n",
    "    return matcher.sub(repl, text)"
   ]
  },
  {
   "cell_type": "code",
   "execution_count": 4,
   "metadata": {},
   "outputs": [],
   "source": [
    "def removeRef(text):\n",
    "    return re.sub(r'<ref(?:.*)?>.*?(?:</ref>)?', '', text)"
   ]
  },
  {
   "cell_type": "code",
   "execution_count": 5,
   "metadata": {},
   "outputs": [],
   "source": [
    "def removeMath(text):\n",
    "    return re.sub(r'<math(?:.*)?>.*?(?:</math>)?', '', text)"
   ]
  },
  {
   "cell_type": "code",
   "execution_count": 6,
   "metadata": {},
   "outputs": [],
   "source": [
    "def removeOtherTags(text):\n",
    "    return re.sub(r'<.*?>(.*?)<.*?>', r'\\1', text)"
   ]
  },
  {
   "cell_type": "code",
   "execution_count": 7,
   "metadata": {},
   "outputs": [],
   "source": [
    "def removeQuotationMark(text):\n",
    "    pattern = r\"\"\"(['\"]+)(.*?)\\1\"\"\"\n",
    "    matcher = re.compile(pattern)\n",
    "    return matcher.sub(r'\\2', text)"
   ]
  },
  {
   "cell_type": "code",
   "execution_count": 8,
   "metadata": {},
   "outputs": [],
   "source": [
    "def removeEqual(text):\n",
    "    return text.replace('=',' ') "
   ]
  },
  {
   "cell_type": "code",
   "execution_count": 9,
   "metadata": {},
   "outputs": [],
   "source": [
    "def removeBraces(text):\n",
    "    pattern = r\"{.*?}\"\n",
    "    matcher = re.compile(pattern)\n",
    "    return matcher.sub('', text)\n"
   ]
  },
  {
   "cell_type": "code",
   "execution_count": 10,
   "metadata": {},
   "outputs": [],
   "source": [
    "def removeBrackets(text):\n",
    "    pattern = r\"\\[.*?\\]\"\n",
    "    matcher = re.compile(pattern)\n",
    "    text = matcher.sub('', text)\n",
    "    text = text.replace(']', '')\n",
    "    return text.replace('[', '')"
   ]
  },
  {
   "cell_type": "code",
   "execution_count": 11,
   "metadata": {},
   "outputs": [],
   "source": [
    "def removeHtmlComment(texto):\n",
    "    pattern = r\"<!--.*?-->\"\n",
    "    matcher = re.compile(pattern)\n",
    "    return matcher.sub('', texto)"
   ]
  },
  {
   "cell_type": "code",
   "execution_count": 12,
   "metadata": {},
   "outputs": [],
   "source": [
    "def removeAsterisk(texto):\n",
    "    texto = texto.replace(\"*\", \"\")\n",
    "    return texto"
   ]
  },
  {
   "cell_type": "code",
   "execution_count": 13,
   "metadata": {},
   "outputs": [
    {
     "output_type": "execute_result",
     "data": {
      "text/plain": [
       "'o problema. Durante a adolescênci'"
      ]
     },
     "metadata": {},
     "execution_count": 13
    }
   ],
   "source": [
    "def removePx(text):     \n",
    "    return re.sub(r\"(?:\\d+x)?\\d+px\", ' ', text)\n",
    "\n",
    "removePx(\"o problema.624pxDurante a adolescênci\")"
   ]
  },
  {
   "cell_type": "code",
   "execution_count": 14,
   "metadata": {},
   "outputs": [
    {
     "output_type": "execute_result",
     "data": {
      "text/plain": [
       "'Vista Alegre Sport Clube Beira-Mar'"
      ]
     },
     "metadata": {},
     "execution_count": 14
    }
   ],
   "source": [
    "def removeDash(text):\n",
    "    return re.sub(r'\\s+[-–]\\s+', ' ', text)\n",
    "\n",
    "removeDash(\"Vista - Alegre Sport Clube Beira-Mar\")"
   ]
  },
  {
   "cell_type": "code",
   "execution_count": 15,
   "metadata": {},
   "outputs": [],
   "source": [
    "def removeParenthesis(text):\n",
    "    text = text.replace('(', '')\n",
    "    return text.replace(')', '')"
   ]
  },
  {
   "cell_type": "code",
   "execution_count": 16,
   "metadata": {},
   "outputs": [],
   "source": [
    "def removeDigits(text):\n",
    "    return re.sub('\\d+', '', text)"
   ]
  },
  {
   "cell_type": "code",
   "execution_count": 17,
   "metadata": {},
   "outputs": [],
   "source": [
    "def removeWikipediaTemplates(text):\n",
    "    conta = 0\n",
    "    spans_proibidos = []\n",
    "    for item in re.finditer(r'{{|}}', text):\n",
    "        if item[0] == '{{':\n",
    "            if conta == 0:\n",
    "                inicio = item.span()[0]\n",
    "            conta += 1\n",
    "        else:\n",
    "            conta -= 1\n",
    "            if conta == 0:\n",
    "                fim = item.span()[1]\n",
    "                spans_proibidos.append((inicio, fim))\n",
    "\n",
    "    clean_text = ''\n",
    "    inicio = 0\n",
    "    for span in spans_proibidos:\n",
    "        fim, novo_inicio = span\n",
    "        clean_text += text[inicio:fim]\n",
    "        inicio = novo_inicio\n",
    "    \n",
    "    clean_text += text[inicio:]\n",
    "    return clean_text\n",
    "\n"
   ]
  },
  {
   "cell_type": "code",
   "execution_count": 18,
   "metadata": {},
   "outputs": [],
   "source": [
    "def clearText(text):\n",
    "    funcs = [\n",
    "        removeUrl,\n",
    "        removeWikipediaLinks,\n",
    "        removeRef,\n",
    "        removeMath,\n",
    "        removeOtherTags,\n",
    "        removeQuotationMark,\n",
    "        removeEqual,\n",
    "        removeBraces,\n",
    "        removeBrackets,\n",
    "        removeHtmlComment,\n",
    "        removeAsterisk,\n",
    "        removePx,\n",
    "        removeDash,\n",
    "        removeParenthesis,\n",
    "        removeDigits,\n",
    "        removeWikipediaTemplates\n",
    "    ]\n",
    "    x = text\n",
    "    for func in funcs:\n",
    "        x = func(x)\n",
    "    return x"
   ]
  },
  {
   "cell_type": "code",
   "execution_count": 19,
   "metadata": {},
   "outputs": [],
   "source": [
    "import json\n",
    "with open('dump_small_clean.jsonln', 'w', encoding=\"utf8\") as file:\n",
    "    for i in range(len(data)):\n",
    "        json.dump({\"body\": clearText(data[i]['body']), \"title\": data[i][\"title\"]}, file)\n",
    "        file.write('\\n')"
   ]
  }
 ],
 "metadata": {
  "kernelspec": {
   "display_name": "Python 3",
   "language": "python",
   "name": "python3"
  },
  "language_info": {
   "codemirror_mode": {
    "name": "ipython",
    "version": 3
   },
   "file_extension": ".py",
   "mimetype": "text/x-python",
   "name": "python",
   "nbconvert_exporter": "python",
   "pygments_lexer": "ipython3",
   "version": "3.8.7-final"
  }
 },
 "nbformat": 4,
 "nbformat_minor": 5
}