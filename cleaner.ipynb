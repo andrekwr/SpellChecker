{
 "cells": [
  {
   "cell_type": "code",
   "execution_count": 1,
   "metadata": {},
   "outputs": [
    {
     "name": "stdout",
     "output_type": "stream",
     "text": [
      "Documents: 11225\n"
     ]
    }
   ],
   "source": [
    "import json\n",
    "import re\n",
    "\n",
    "data = []\n",
    "with open('dump_small.jsonln', 'r') as file:\n",
    "    for line in file:\n",
    "        data.append(json.loads(line))\n",
    "        \n",
    "print(f'Documents: {len(data)}')"
   ]
  },
  {
   "cell_type": "markdown",
   "metadata": {},
   "source": [
    "## Functions to clean wikipedia's text."
   ]
  },
  {
   "cell_type": "code",
   "execution_count": 2,
   "metadata": {},
   "outputs": [],
   "source": [
    "def removeUrl(texto):\n",
    "    # https://www.geeksforgeeks.org/python-check-url-string/\n",
    "    pattern = r\"\"\"\n",
    "        (?i)\n",
    "        \\b  \n",
    "        (?:\n",
    "            https?://\n",
    "        |\n",
    "            www\n",
    "            \\d{0,3}\n",
    "            [.]\n",
    "        |\n",
    "            [a-z0-9.-]+\n",
    "            [.]\n",
    "            [a-z]{2,4}\n",
    "            /\n",
    "        )\n",
    "        (?:\n",
    "            [^\\s()<>]+\n",
    "        |\n",
    "            (\n",
    "            (?:\n",
    "                [^\\s()<>]+\n",
    "            |\n",
    "                (\n",
    "                [^\\s()<>]+\n",
    "                )\n",
    "            )*\n",
    "            )\n",
    "        )+\n",
    "        (?:\n",
    "            (\n",
    "            (?:\n",
    "                [^\\s()<>]+\n",
    "            |\n",
    "                (\n",
    "                [^\\s()<>]+\n",
    "                )\n",
    "            )*\n",
    "            )\n",
    "        |\n",
    "            [^\\s`!()[]{};:'\".,<>?«»“”‘’]\n",
    "        )\n",
    "    \"\"\"\n",
    "    repl = ''\n",
    "    matcher = re.compile(pattern, re.VERBOSE)\n",
    "    return matcher.sub(repl, texto)"
   ]
  },
  {
   "cell_type": "code",
   "execution_count": 3,
   "metadata": {},
   "outputs": [],
   "source": [
    "def removeWikipediaLinks(text):\n",
    "    pattern = r'\\[\\[(?:[^|]*?\\|)*?([^|]*?)\\]\\]'\n",
    "    repl = r'\\1'\n",
    "    matcher = re.compile(pattern)\n",
    "    return matcher.sub(repl, text)"
   ]
  },
  {
   "cell_type": "code",
   "execution_count": 4,
   "metadata": {},
   "outputs": [],
   "source": [
    "def removeRef(text):\n",
    "    return re.sub(r'<ref(?:.*)?>.*?(?:</ref>)?', '', text)"
   ]
  },
  {
   "cell_type": "code",
   "execution_count": 5,
   "metadata": {},
   "outputs": [],
   "source": [
    "def removeMath(text):\n",
    "    return re.sub(r'<math(?:.*)?>.*?(?:</math>)?', '', text)"
   ]
  },
  {
   "cell_type": "code",
   "execution_count": 6,
   "metadata": {},
   "outputs": [],
   "source": [
    "def removeOtherTags(text):\n",
    "    return re.sub(r'<.*?>(.*?)<.*?>', r'\\1', text)"
   ]
  },
  {
   "cell_type": "code",
   "execution_count": 7,
   "metadata": {},
   "outputs": [],
   "source": [
    "def removeHtmlFormat(text):\n",
    "    return re.sub(r'\\w+=\".*\"', '', text)"
   ]
  },
  {
   "cell_type": "code",
   "execution_count": 8,
   "metadata": {},
   "outputs": [
    {
     "data": {
      "text/plain": [
       "'</font>||<font \\n|- \\n|\\n|- \\n|\\n|- \\n|\\n|- \\n|\\n|- \\n|\\n|- \\n|\\n|- \\n|\\n|- \\n|\\n|- \\n|\\n|- \\n|\\n|- \\n|\\n|- \\n|\\n|- \\n|\\n|- \\n|\\n|- \\n|\\n|- \\n|\\n|- \\n|\\n|- \\n|\\n|- \\n|\\n|- \\n|\\n|- \\n|\\n|- \\n|\\n|- \\n|\\n|- \\n|\\n|- \\n|\\n|- \\n|\\n|- \\n|\\n|- \\n|\\n|- \\n|\\n|- \\n|\\n|- \\n|\\n|- \\n|\\n|- \\n|\\n|- \\n|\\n|- \\n|\\n|- \\n|\\n|- \\n|\\n|- \\n|\\n|- \\n|\\n|- \\n|\\n|- \\n|\\n|- \\n|\\n|}\\n\\n{{col-2}}\\n'"
      ]
     },
     "execution_count": 8,
     "metadata": {},
     "output_type": "execute_result"
    }
   ],
   "source": [
    "def removeOtherWikiFormat(text):\n",
    "    return re.sub(r'\\w+=.+', '', text)\n",
    "removeOtherWikiFormat(\"</font>||<font color=\\\"black\\\">'''Campeonato Ga\\u00facho '''</font>||<font color=\\\"black\\\">'''Posi\\u00e7\\u00e3o'''</font>\\n|- bgcolor=ACE1AF\\n|align=center|'''1927'''||align=center|'''{{BR-RSb}} 1\\u00aa Divis\\u00e3o'''||align=center|'''3\\u00ba'''\\n|- bgcolor=ACE1AF\\n|align=center|'''1949'''||align=center|'''{{BR-RSb}} 1\\u00aa Divis\\u00e3o'''||align=center|'''3\\u00ba'''\\n|- bgcolor=ACE1AF\\n|align=center|'''1952'''||align=center|'''{{BR-RSb}} 1\\u00aa Divis\\u00e3o'''||align=center|'''4\\u00ba'''\\n|- bgcolor=ffdead\\n|align=center|'''1955'''||align=center|'''{{BR-RSb}} 2\\u00aa Divis\\u00e3o'''||align=center|'''3\\u00ba'''\\n|- bgcolor=ACE1AF\\n|align=center|'''1958'''||align=center|'''{{BR-RSb}} 1\\u00aa Divis\\u00e3o'''||align=center|'''3\\u00ba'''\\n|- bgcolor=ACE1AF\\n|align=center|'''1960'''||align=center|'''{{BR-RSb}} 1\\u00aa Divis\\u00e3o'''||align=center|'''4\\u00ba'''\\n|- bgcolor=ffdead\\n|align=center|'''1964'''||align=center|'''{{BR-RSb}} 2\\u00aa Divis\\u00e3o'''||align=center|'''3\\u00ba'''\\n|- bgcolor=ffdead\\n|align=center|'''1965'''||align=center|'''{{BR-RSb}} 2\\u00aa Divis\\u00e3o'''||align=center|'''4\\u00ba'''\\n|- bgcolor=ffdead\\n|align=center|'''1966'''||align=center|'''{{BR-RSb}} 2\\u00aa Divis\\u00e3o'''||align=center|'''?'''\\n|- bgcolor=FFCCCC\\n|align=center|'''1967'''||align=center|'''{{BR-RSb}} 3\\u00aa Divis\\u00e3o'''||align=center|'''?'''\\n|- bgcolor=FFCCCC\\n|align=center|'''1968'''||align=center|'''{{BR-RSb}} 3\\u00aa Divis\\u00e3o'''||align=center|'''?'''\\n|- bgcolor=ffdead\\n|align=center|'''1969'''||align=center|'''{{BR-RSb}} 2\\u00aa Divis\\u00e3o'''||align=center|'''?'''\\n|- bgcolor=ffdead\\n|align=center|'''1970'''||align=center|'''{{BR-RSb}} 2\\u00aa Divis\\u00e3o'''||align=center|'''?'''\\n|- bgcolor=ffdead\\n|align=center|'''1978'''||align=center|'''{{BR-RSb}} 2\\u00aa Divis\\u00e3o'''||align=center|'''5\\u00ba'''\\n|- bgcolor=ffdead\\n|align=center|'''1979'''||align=center|'''{{BR-RSb}} 2\\u00aa Divis\\u00e3o'''||align=center|'''Vice-campe\\u00e3o'''\\n|- bgcolor=ffdead\\n|align=center|'''1980'''||align=center|'''{{BR-RSb}} 2\\u00aa Divis\\u00e3o'''||align=center|'''8\\u00ba'''\\n|- bgcolor=ffdead\\n|align=center|'''1981'''||align=center|'''{{BR-RSb}} 2\\u00aa Divis\\u00e3o'''||align=center|'''8\\u00ba'''\\n|- bgcolor=ffdead\\n|align=center|'''1982'''||align=center|'''{{BR-RSb}} 2\\u00aa Divis\\u00e3o'''||align=center|'''6\\u00ba'''\\n|- bgcolor=ffdead\\n|align=center|'''1983'''||align=center|'''{{BR-RSb}} 2\\u00aa Divis\\u00e3o'''||align=center|'''4\\u00ba'''\\n|- bgcolor=ffdead\\n|align=center|'''1984'''||align=center|'''{{BR-RSb}} 2\\u00aa Divis\\u00e3o'''||align=center|'''3\\u00ba'''\\n|- bgcolor=ffdead\\n|align=center|'''1985'''||align=center|'''{{BR-RSb}} 2\\u00aa Divis\\u00e3o'''||align=center|'''5\\u00ba'''\\n|- bgcolor=ffdead\\n|align=center|'''1986'''||align=center|'''{{BR-RSb}} 2\\u00aa Divis\\u00e3o'''||align=center|'''7\\u00ba'''\\n|- bgcolor=ffdead\\n|align=center|'''1987'''||align=center|'''{{BR-RSb}} 2\\u00aa Divis\\u00e3o'''||align=center|'''6\\u00ba'''\\n|- bgcolor=ffdead\\n|align=center|'''1988'''||align=center|'''{{BR-RSb}} 2\\u00aa Divis\\u00e3o'''||align=center|'''15\\u00ba'''\\n|- bgcolor=ffdead\\n|align=center|'''1989'''||align=center|'''{{BR-RSb}} 2\\u00aa Divis\\u00e3o'''||align=center|'''?'''\\n|- bgcolor=ffdead\\n|align=center|'''1990'''||align=center|'''{{BR-RSb}} 2\\u00aa Divis\\u00e3o'''||align=center|'''?'''\\n|- bgcolor=ffdead\\n|align=center|'''1991'''||align=center|'''{{BR-RSb}} 2\\u00aa Divis\\u00e3o'''||align=center|'''?'''\\n|- bgcolor=ffdead\\n|align=center|'''1992'''||align=center|'''{{BR-RSb}} 2\\u00aa Divis\\u00e3o'''||align=center|'''3\\u00ba'''\\n|- bgcolor=ffdead\\n|align=center|'''1993'''||align=center|'''{{BR-RSb}} 2\\u00aa Divis\\u00e3o'''||align=center|'''5\\u00ba'''\\n|- bgcolor=ffdead\\n|align=center|'''1994'''||align=center|'''{{BR-RSb}} 2\\u00aa Divis\\u00e3o'''||align=center|'''?'''\\n|- bgcolor=ffdead\\n|align=center|'''1995'''||align=center|'''{{BR-RSb}} 2\\u00aa Divis\\u00e3o'''||align=center|'''5\\u00ba'''\\n|- bgcolor=ffdead\\n|align=center|'''1998'''||align=center|'''{{BR-RSb}} 2\\u00aa Divis\\u00e3o'''||align=center|'''6\\u00ba'''\\n|- bgcolor=ffdead\\n|align=center|'''2005'''||align=center|'''{{BR-RSb}} 2\\u00aa Divis\\u00e3o'''||align=center|'''18\\u00b0'''\\n|- bgcolor=ffdead\\n|align=center|'''2006'''||align=center|'''{{BR-RSb}} 2\\u00aa Divis\\u00e3o'''||align=center|'''23\\u00ba'''\\n|- bgcolor=ffdead\\n|align=center|'''2007'''||align=center|'''{{BR-RSb}} 2\\u00aa Divis\\u00e3o'''||align=center|'''17\\u00ba'''\\n|- bgcolor=ffdead\\n|align=center|'''2008'''||align=center|'''{{BR-RSb}} 2\\u00aa Divis\\u00e3o'''||align=center|'''17\\u00ba'''\\n|- bgcolor=ffdead\\n|align=center|'''2009'''||align=center|'''{{BR-RSb}} 2\\u00aa Divis\\u00e3o'''||align=center|'''19\\u00ba'''\\n|- bgcolor=ffdead\\n|align=center|'''2010'''||align=center|'''{{BR-RSb}} 2\\u00aa Divis\\u00e3o'''||align=center|'''18\\u00ba'''\\n|- bgcolor=ffdead\\n|align=center|'''2011'''||align=center|'''{{BR-RSb}} 2\\u00aa Divis\\u00e3o'''||align=center|'''8\\u00ba'''\\n|- bgcolor=ffdead\\n|align=center|'''2012'''||align=center|'''{{BR-RSb}} 2\\u00aa Divis\\u00e3o'''||align=center|'''16\\u00ba'''\\n|- bgcolor=FFCCCC\\n|align=center|'''2013'''||align=center|'''{{BR-RSb}} 3\\u00aa Divis\\u00e3o'''||align=center|'''11\\u00b0'''\\n|- bgcolor=FFCCCC\\n|align=center|'''2015'''||align=center|'''{{BR-RSb}} 3\\u00aa Divis\\u00e3o'''||align=center|'''9\\u00b0'''\\n|}\\n\\n{{col-2}}\\n\")"
   ]
  },
  {
   "cell_type": "code",
   "execution_count": 9,
   "metadata": {},
   "outputs": [
    {
     "data": {
      "text/plain": [
       "'.\\n   \\n  \\n  }}'"
      ]
     },
     "execution_count": 9,
     "metadata": {},
     "output_type": "execute_result"
    }
   ],
   "source": [
    "def removePipe(text):\n",
    "    return re.sub('\\|.*\\n', '', text)\n",
    "\n",
    "removePipe(\".\\n | align      = right\\n | width1    = 200\\n | width2    = 250\\n\\n | image1    = Satellite image of the Netherlands in May 2000.jpg\\n | alt1      = Imagem de sat\\u00e9lite\\n\\n | image2    = The_Netherlands_compared_to_sealevel.png\\n | alt2      = Mapa\\n}}\")"
   ]
  },
  {
   "cell_type": "code",
   "execution_count": 10,
   "metadata": {},
   "outputs": [],
   "source": [
    "def removeQuotationMark(text):\n",
    "    pattern = r\"\"\"(['\"]+)(.*?)\\1\"\"\"\n",
    "    matcher = re.compile(pattern)\n",
    "    return matcher.sub(r'\\2', text)"
   ]
  },
  {
   "cell_type": "code",
   "execution_count": 11,
   "metadata": {},
   "outputs": [],
   "source": [
    "def removeEqual(text):\n",
    "    return text.replace('=',' ') "
   ]
  },
  {
   "cell_type": "code",
   "execution_count": 12,
   "metadata": {},
   "outputs": [],
   "source": [
    "def removeBraces(text):\n",
    "    pattern = r\"{.*?}\"\n",
    "    matcher = re.compile(pattern)\n",
    "    return matcher.sub('', text)\n"
   ]
  },
  {
   "cell_type": "code",
   "execution_count": 13,
   "metadata": {},
   "outputs": [],
   "source": [
    "def removeBrackets(text):\n",
    "    pattern = r\"\\[.*?\\]\"\n",
    "    matcher = re.compile(pattern)\n",
    "    text = matcher.sub('', text)\n",
    "    text = text.replace(']', '')\n",
    "    return text.replace('[', '')"
   ]
  },
  {
   "cell_type": "code",
   "execution_count": 14,
   "metadata": {},
   "outputs": [],
   "source": [
    "def removeHtmlComment(texto):\n",
    "    pattern = r\"<!--.*?-->\"\n",
    "    matcher = re.compile(pattern)\n",
    "    return matcher.sub('', texto)"
   ]
  },
  {
   "cell_type": "code",
   "execution_count": 15,
   "metadata": {},
   "outputs": [],
   "source": [
    "def removeAsterisk(texto):\n",
    "    texto = texto.replace(\"*\", \"\")\n",
    "    return texto"
   ]
  },
  {
   "cell_type": "code",
   "execution_count": 16,
   "metadata": {},
   "outputs": [
    {
     "data": {
      "text/plain": [
       "'o problema. Durante a adolescênci'"
      ]
     },
     "execution_count": 16,
     "metadata": {},
     "output_type": "execute_result"
    }
   ],
   "source": [
    "def removePx(text):     \n",
    "    return re.sub(r\"(?:\\d+x)?\\d+px\", ' ', text)\n",
    "\n",
    "removePx(\"o problema.624pxDurante a adolescênci\")"
   ]
  },
  {
   "cell_type": "code",
   "execution_count": 17,
   "metadata": {},
   "outputs": [
    {
     "data": {
      "text/plain": [
       "'Vista Alegre Sport Clube Beira-Mar'"
      ]
     },
     "execution_count": 17,
     "metadata": {},
     "output_type": "execute_result"
    }
   ],
   "source": [
    "def removeDash(text):\n",
    "    return re.sub(r'\\s+[-–]\\s+', ' ', text)\n",
    "\n",
    "removeDash(\"Vista - Alegre Sport Clube Beira-Mar\")"
   ]
  },
  {
   "cell_type": "code",
   "execution_count": 18,
   "metadata": {},
   "outputs": [],
   "source": [
    "def removeParentheses(text):\n",
    "    text = text.replace('(', '')\n",
    "    return text.replace(')', '')"
   ]
  },
  {
   "cell_type": "code",
   "execution_count": 19,
   "metadata": {},
   "outputs": [],
   "source": [
    "def removeUpperO(text): # °\n",
    "    return text.replace('\\u00ba', '')\n"
   ]
  },
  {
   "cell_type": "code",
   "execution_count": 20,
   "metadata": {},
   "outputs": [],
   "source": [
    "def removeDigits(text):\n",
    "    return re.sub('\\d+', '', text)"
   ]
  },
  {
   "cell_type": "code",
   "execution_count": 21,
   "metadata": {},
   "outputs": [],
   "source": [
    "def removeWikipediaTemplates(text):\n",
    "    conta = 0\n",
    "    spans_proibidos = []\n",
    "    for item in re.finditer(r'{{|}}', text):\n",
    "        if item[0] == '{{':\n",
    "            if conta == 0:\n",
    "                inicio = item.span()[0]\n",
    "            conta += 1\n",
    "        else:\n",
    "            conta -= 1\n",
    "            if conta == 0:\n",
    "                fim = item.span()[1]\n",
    "                spans_proibidos.append((inicio, fim))\n",
    "\n",
    "    clean_text = ''\n",
    "    inicio = 0\n",
    "    for span in spans_proibidos:\n",
    "        fim, novo_inicio = span\n",
    "        clean_text += text[inicio:fim]\n",
    "        inicio = novo_inicio\n",
    "    \n",
    "    clean_text += text[inicio:]\n",
    "    return clean_text\n",
    "\n"
   ]
  },
  {
   "cell_type": "code",
   "execution_count": 22,
   "metadata": {},
   "outputs": [],
   "source": [
    "def clearText(text):\n",
    "    funcs = [\n",
    "        removeUrl,\n",
    "        removeWikipediaLinks,\n",
    "        removeRef,\n",
    "        removeMath,\n",
    "        removeOtherTags,\n",
    "        removeHtmlFormat,\n",
    "        removeOtherWikiFormat,\n",
    "        removePipe,\n",
    "        removeUpperO,\n",
    "        removeQuotationMark,\n",
    "        removeEqual,\n",
    "        removeBraces,\n",
    "        removeBrackets,\n",
    "        removeHtmlComment,\n",
    "        removeAsterisk,\n",
    "        removePx,\n",
    "        removeDash,\n",
    "        removeParentheses,\n",
    "        removeDigits,\n",
    "        removeWikipediaTemplates\n",
    "    ]\n",
    "    x = text\n",
    "    for func in funcs:\n",
    "        x = func(x)\n",
    "    return x"
   ]
  },
  {
   "cell_type": "code",
   "execution_count": 23,
   "metadata": {},
   "outputs": [],
   "source": [
    "import json\n",
    "with open('dump_small_clean.jsonln', 'w', encoding=\"utf8\") as file:\n",
    "    for i in range(len(data)):\n",
    "        json.dump({\"body\": clearText(data[i]['body']), \"title\": data[i][\"title\"]}, file)\n",
    "        file.write('\\n')"
   ]
  }
 ],
 "metadata": {
  "kernelspec": {
   "display_name": "Python 3",
   "language": "python",
   "name": "python3"
  },
  "language_info": {
   "codemirror_mode": {
    "name": "ipython",
    "version": 3
   },
   "file_extension": ".py",
   "mimetype": "text/x-python",
   "name": "python",
   "nbconvert_exporter": "python",
   "pygments_lexer": "ipython3",
   "version": "3.8.7"
  }
 },
 "nbformat": 4,
 "nbformat_minor": 5
}
