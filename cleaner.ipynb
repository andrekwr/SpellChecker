{
 "cells": [
  {
   "cell_type": "code",
   "execution_count": 1,
   "metadata": {},
   "outputs": [
    {
     "name": "stdout",
     "output_type": "stream",
     "text": [
      "Numero de documentos: 11225\n"
     ]
    }
   ],
   "source": [
    "#verificar com o ayres [[]] aninhado\n",
    "\n",
    "import json\n",
    "import re\n",
    "\n",
    "data = []\n",
    "with open('dump_small.jsonln', 'r') as file:\n",
    "    for line in file:\n",
    "        data.append(json.loads(line))\n",
    "        \n",
    "print(f'Numero de documentos: {len(data)}')"
   ]
  },
  {
   "cell_type": "code",
   "execution_count": 2,
   "metadata": {},
   "outputs": [
    {
     "name": "stdout",
     "output_type": "stream",
     "text": [
      "dict_keys(['title', 'body'])\n"
     ]
    }
   ],
   "source": [
    "print(data[0].keys())"
   ]
  },
  {
   "cell_type": "code",
   "execution_count": 3,
   "metadata": {},
   "outputs": [
    {
     "name": "stdout",
     "output_type": "stream",
     "text": [
      "Alexandre (nome)\n"
     ]
    }
   ],
   "source": [
    "print(data[0]['title'])"
   ]
  },
  {
   "cell_type": "code",
   "execution_count": 4,
   "metadata": {},
   "outputs": [
    {
     "name": "stdout",
     "output_type": "stream",
     "text": [
      "{{Multitag|mnot|rev|data=outubro de 2019}}\n",
      "{{Info/Nome\n",
      "|imagem= Napoli BW 2013-05-16 16-24-01.jpg\n",
      "|legenda= [[Alexandre, o Grande]], uma das pessoas notórias de nome '''Alexandre'''.\n",
      "|gênero= Masculino\n",
      "|significado= Protetor do Homem\n",
      "|origem= Do [[Língua grega|grego]] Αλέξανδρος\n",
      "|relativos= Alex; Alexander; Alessandro; Sandro\n",
      "}}\n",
      "'''Alexandre''' é um [[prenome]] popular da [[língua portuguesa]]. É [[cognato]] ao nome [[Alexander]], da [[língua inglesa]]. Em [[países lusófonos]], pessoas chamadas Alexandre são normalmente [[Alcunha|apelidadas]] de [[Alex]].\n",
      "\n",
      "== Origem ==\n",
      "O nome deriva do [[latim]] ''Alexander'', [[romanização]] do nome [[Língua grega|grego]] Αλέξανδρος (''Aléksandros''). [[Etimologia|Etimologicamente]], o nome seria um composto do [[verbo]] ''ἀλέξειν'' (''aléksein''), \"defender\", e o [[substantivo]] ''ἀνδρός'' (''andrós''), [[genitivo]] de ''ἀνήρ'' (''anēr''), \"homem\". Assim, pode ser traduzido como \"protetor da Humanidade\".{{carece de fontes|data=abril de 2017}}\n",
      "\n",
      "O termo seria ou um tipo raro de composto \"[[tatpurusha]] invertido\", com o modificante na segunda posição (o tatpurusha [[cognato]] em [[sânscrito]] sendo *nararakṣa, cf. [[Ramayana]] 6.33.45; o equivalente exato em sânscrito seria *rakṣinara, do [[Proto-Indo-Europeu|PIE]] ''hleks(i)-hnros'') ou um composto gasto do tipo [[terpsimbrotos]], cujo significado original seria \"ele protege os homens\".{{carece de fontes|data=abril de 2017}}\n",
      "\n",
      "O primeiro registro conhecido do nome foi feito no [[Língua grega micénica|grego micênico]]: encontrou-se a versão feminina do nome, ''Alexandra'', escrito em [[Linear B]].<ref>{{Citar web |url=http://www.geocities.com/kurogr/linearb.pdf |titulo=B0_B0_B0_B0_wi-de #e...de see |acessodata=2009-02-26 |arquivourl=https://web.archive.org/web/20080627021042/http://www.geocities.com/kurogr/linearb.pdf |arquivodata=2008-06-27 |urlmorta=yes }}</ref><ref>Chadwick, John, ''The Mycenaean World'', Nova Iorque: Imprensa da Universidade de Cambrígia, 1976, 1999.</ref>\n",
      "\n",
      "O nome era um dos títulos (\"[[epíteto]]s\") dados à [[Divindade|deusa]] [[Mitologia grega|grega]] [[Hera]]. Na ''[[Ilíada]]'', o personagem [[Páris]] também é conhecido como Alexandre. A popularidade do nome se espalhou pelo mundo grego através das conquistas militares do rei [[Alexandre, o Grande|Alexandre III]] da [[Macedónia Antiga|Macedônia]], comumente chamado de ''Alexandre, o Grande''. Posteriormente, diversos Alexandres receberam seus nomes em homenagem direta ou indireta a ele.{{carece de fontes|data=abril de 2017}}\n",
      "\n",
      "Na [[Rússia]] o nome era razoavelmente raro até o período do [[czar]] [[Alexandre I da Rússia]], a partir do qual se tornou um dos primeiros nomes mais comuns do país, ganhando um número considerável de variações e abreviações.{{carece de fontes|data=abril de 2017}}\n",
      "\n",
      "== Variações em outros idiomas ==\n",
      "* [[Língua albanesa|Albanês]] – Aleksandër, Aleks, Leka i Madh, Lekë (no norte da Albânia), Sandër, Skëndër, Skander (ver [[Skanderbeg]])\n",
      "* [[Língua amárica|Amárico]] – Eskender\n",
      "* [[Língua árabe|Árabe]] – الاسكندر / اسكندر (Iskandar), Skandar, Skender\n",
      "* [[Língua bielorrussa|Bielorrusso]] – Аляксандp (Aliaksandr), Алeсь (Ales'), Алелька (Alyel'ka)\n",
      "* [[Língua catalã|Catalão]] – Alexandre, Àlex, Xandre\n",
      "* [[Língua inglesa|Inglês]] – Alexander, Alec, Alex, Sandy, Andy, Alexis, Alexa, Sandra, Xander\n",
      "* [[Língua gaélica escocesa|Gaélico escocês]] – Alasdair, Alastair, Alistair, Alisdair\n",
      "* [[Língua galega|Galego]] – Alexandre, Álex\n",
      "* [[Língua georgiana|Georgiano]] – ალექსანდრე (Alexandre), ალეკო (Aleko), ლექსო (Lekso), სანდრო (Sandro)\n",
      "* [[Hebraico]] – אלכסנדר (Alexander)\n",
      "* [[Língua hindi|Hindi]] – [[Hindustani language|Hindustani]] – [[Sikandar]]\n",
      "* [[Língua iídiche|Iídiche]] – סענדער – Sender, Senderl\n",
      "* [[Língua irlandesa|Irlandês]] – Alasandar\n",
      "* [[Língua italiana|Italiano]] – Alessandro, Leandro, Ale, Sandro, Alessio, Lissandro\n",
      "* [[Língua malaia|Malaio]] – Iskandar\n",
      "* [[Língua malaiala]] – ചാണ്ടി (Chandy)\n",
      "* [[Língua maltesa|Maltês]] – Lixandru\n",
      "* [[Língua quirguiz|Quirguiz]] – Искендер (İskender)\n",
      "* [[Língua persa|Persa]] – اسكندر (Eskandar)\n",
      "* [[Língua russa|Russo]] — Александр (Alexandr)\n",
      "* [[Sânscrito]] – Alekchendra\n",
      "* [[Língua ucraniana|Ucraniano]] — Олександр (Oleksandr)\n",
      "* [[Língua urdu|Urdu]] – İskender, [[Sikandar]], [[Sikander]] (\"Sikander-e-Azam\" é \"Alexandre, o Grande\")\n",
      "* [[Língua uzbeque|Uzbeque]] – Iskandar\n",
      "* [[Língua turca|Turco]] - Iskander\n",
      "\n",
      "== Pessoas ==\n",
      "* [[Alexandre de Afrodísias]], filósofo da [[Escola peripatética]]\n",
      "* [[Alexandre, o Grande|Alexandre]] da [[Macedónia (história)|Macedônia]].\n",
      "* [[Alexandre de Gusmão]]\n",
      "* [[Alexandre Balas]]\n",
      "* [[Alexandre de Mindos]]\n",
      "* [[Alexandre da Iugoslávia|Alexandre I da Iugoslávia]]\n",
      "* [[Alexandre II Karadjordjevitch]] - chefe da Casa de Karađorđević da [[Sérvia]]\n",
      "* Papa Alexandre - cognome de vários papas, como [[Papa Alexandre I|Santo Alexandre]]\n",
      "* Alexandre da Rússia - cognome de vários imperadores da Rússia ([[Alexandre I da Rússia]],  [[Alexandre II da Rússia]],  [[Alexandre III da Rússia]])\n",
      "* Alexandre da Escócia - cognome de vários reis da Escócia ([[Alexandre I da Escócia]],  [[Alexandre II da Escócia]],  [[Alexandre III da Escócia]])\n",
      "* [[Alexis II (patriarca de Moscou)]]\n",
      "* [[Santo Alexandre]] - cognome de vários santos e mártires\n",
      "\n",
      "== Filmes ==\n",
      "* ''[[Alexander the Great|Alexandre, o Grande]]'' - co-produção hispano-estadunidense de 1956.\n",
      "* ''[[Alexander (filme)|Alexandre]]'' - produção estadunidense de [[2004]].\n",
      "\n",
      "{{Referências}}\n",
      "\n",
      "{{Controle de autoridade}}\n",
      "\n",
      "[[Categoria:Prenomes]]\n"
     ]
    }
   ],
   "source": [
    "print(data[0]['body'])"
   ]
  },
  {
   "cell_type": "markdown",
   "metadata": {},
   "source": [
    "---\n",
    "\n",
    "Como vocês podem ver, o texto está cheio de caracteres de estruturação de documento."
   ]
  },
  {
   "cell_type": "markdown",
   "metadata": {},
   "source": [
    "---\n",
    "\n",
    "**Atividade:** Consulte a documentação da Wikipedia para descobrir o que são as marcações `[[`, `]]`, `{{` e ```}}```"
   ]
  },
  {
   "cell_type": "markdown",
   "metadata": {},
   "source": [
    "**R:** O que está entre [[ ]] é um hypertexto. o que está entre {{}} é um supertexto (ex: aaaa², o 2 é um supertexto)"
   ]
  },
  {
   "cell_type": "markdown",
   "metadata": {},
   "source": [
    "---"
   ]
  },
  {
   "cell_type": "markdown",
   "metadata": {},
   "source": [
    "Vamos explorar o corpus para minerar itens de interesse."
   ]
  },
  {
   "cell_type": "markdown",
   "metadata": {},
   "source": [
    "**Exercicio:** Faça uma função que retorna uma lista com todos os links html de um texto deste corpus."
   ]
  },
  {
   "cell_type": "code",
   "execution_count": 5,
   "metadata": {},
   "outputs": [
    {
     "data": {
      "text/plain": [
       "['[[Língua russa|russo]]']"
      ]
     },
     "execution_count": 5,
     "metadata": {},
     "output_type": "execute_result"
    }
   ],
   "source": [
    "def find_links(text):\n",
    "    return re.findall(r'\\[\\[.+?\\]\\]', text)\n",
    "find_links(\" evoluir.thumb|esquerda|300px|Primeira edi\\u00e7\\u00e3o do Unua Libro, em [[L\\u00edngua russa|russo]]O primeiro livro sobre o esperanto foi\")"
   ]
  },
  {
   "cell_type": "code",
   "execution_count": 6,
   "metadata": {},
   "outputs": [
    {
     "name": "stdout",
     "output_type": "stream",
     "text": [
      "['[[língua auxiliar]]', '[[língua artificial]]', '[[L. L. Zamenhof]]', '[[1887]]', '[[Línguas românicas]]', '[[línguas germânicas|germânicas]]', '[[línguas eslavas]]', '[[língua auxiliar|Linguagem auxiliar internacional]]', '[[Ethnologue]]', '[[Alfabeto latino]]', '[[Ortografia do esperanto|Alfabeto Esperanto]]', '[[Academia de Esperanto]]', '[[Imagem:Number_of_Esperanto_association_members_by_country.svg|300px]]', '[[língua planejada]]', '[[Esperantujo]]', '[[médico]]', '[[Judeus|judeu]]', '[[Ludwik Lejzer Zamenhof]]', '[[1887]]', '[[língua franca]]', '[[intercâmbio cultural]]', '[[Valor propedêutico do esperanto|evidências de que auxilia na aprendizagem dos demais idiomas]]', '[[língua auxiliar]]', '[[Radical (linguística)|radical]]', '[[latim]]', '[[desinência]]', '[[particípio presente]]', '[[substantivo]]', '[[Ludwik Lejzer Zamenhof]]', '[[Białystok]]', '[[Polônia]]', '[[Império Russo]]', '[[Imagem:Protoesperanto.png|miniaturadaimagem|Tabela comparando o protoEsperanto com o Esperanto atual e apresentando uma tradução em Português|624x624px]]', '[[adolescência]]', '[[Moscovo|Moscou]]', '[[medicina]]', \"[[Imagem:Unua Libro.jpg|thumb|esquerda|300px|Primeira edição do ''Unua Libro'', em [[Língua russa|russo]]\", '[[26 de julho]]', '[[1887]]', '[[língua russa|russo]]', '[[gramática|gramaticais]]', '[[Unua Libro]]', '[[língua alemã|alemão]]', '[[língua polaca|polaco]]', '[[língua francesa|francês]]', '[[Império Russo]]', '[[Europa Oriental]]', '[[Europa Ocidental]]', '[[Américas]]', '[[China]]', '[[Japão]]', '[[volapük]]', '[[1905]]', '[[Congresso Universal de Esperanto]]', '[[Bolonha-sobre-o-Mar]]', '[[França]]', '[[1906]]', '[[Brasil]]', '[[Campinas]]', '[[guerras mundiais]]', '[[Hitler]]', '[[Alemanha]]', '[[Stalin]]', '[[Rússia]]', '[[1954]]', '[[Organização das Nações Unidas para a Educação, a Ciência e a Cultura]]', '[[educação]]', '[[ciência]]', '[[cultura]]', '[[1985]]', '[[1995]]', '[[internet]]', '[[:eo:Vikipedio:Ĉefpaĝo|Wikipédia em esperanto]]', '[[Meta-Wiki]]', '[[língua aglutinante]]', '[[Gênero gramatical|gêneros gramaticais]]', '[[Número (gramática)|número]]', '[[Modo verbal|modos]]', '[[indicativo]]', '[[imperativo]]', '[[subjuntivo]]', '[[formas nominais do verbo]]', '[[particípio]]', '[[Caso gramatical|casos morfológicos]]', '[[caso acusativo|acusativo]]', '[[caso nominativo|nominativo]]', '[[Língua natural|língua étnica]]', '[[léxico]]', '[[línguas românicas|românico]]', '[[aglutinação|aglutinante]]', '[[fonologia]]', '[[gramática]]', '[[vocabulário]]', '[[semântica]]', '[[línguas indo-europeias]]', '[[Línguas eslavas|eslavos]]', '[[línguas germânicas]]', '[[pragmática]]', '[[Língua polonesa|polonês]]', '[[Língua francesa|francês]]', '[[grafema]]', '[[fonema]]', '[[biunívoca]]', '[[Morfologia (linguística)|morfologia]]', '[[Tipologia linguística|Tipologicamente]]', '[[Sujeito-Verbo-Objeto|sujeito-verbo-objeto]]', '[[morfema]]', '[[neologismo]]', '[[vogal|vogais]]', '[[consoante]]', '[[Semivogal|semivogais]]', '[[língua tonal|tons]]', '[[paroxítona]]', '[[apóstrofo]]', '[[poesia]]', '[[consoante oclusiva|Plosiva]]', '[[consoante nasal|Nasal]]', '[[consoante vibrante|Vibrante]]', '[[consoante fricativa|Fricativa]]', '[[consoante africada|Africada]]', '[[consoante lateral|Lateral]]', '[[consoante aproximante|Aproximante]]', '[[16 regras do esperanto]]', '[[ad hoc]]', '[[Substantivo]]', '[[Adjetivo]]', '[[Tempo presente|Presente]]', '[[Tempo passado|Passado]]', '[[Tempo futuro|Futuro]]', '[[Infinitivo]]', '[[Volitivo]]', '[[Condicional]]', '[[Tempo presente|Presente]]', '[[Tempo passado|Passado]]', '[[Tempo futuro|Futuro]]', '[[:wikt:esti|esti]]', '[[:wikt:ser|ser]]', '[[:wikt:estar|estar]]', '[[alfabeto latino]]', '[[ĉ]]', '[[ĝ]]', '[[ĥ]]', '[[ĵ]]', '[[ŝ]]', '[[ŭ]]', '[[q]]', '[[w]]', '[[x]]', '[[y]]', '[[Alfabeto Fonético Internacional]]', '[[internet]]', '[[Akademio de Esperanto]]', '[[código Morse]]', '[[braile]]', '[[taquigrafia]]', '[[Imagem:Braille A1.svg|50px]]', '[[Imagem:Braille B2.svg|50px]]', '[[Imagem:Braille C3.svg|50px]]', '[[Imagem:Braille SH.svg|50px]]', '[[Imagem:Braille D4.svg|50px]]', '[[Imagem:Braille E5.svg|50px]]', '[[Imagem:Braille F6.svg|50px]]', '[[Imagem:Braille G7.svg|50px]]', '[[Imagem:Braille Ï.svg|50px]]', '[[Imagem:Braille H8.svg|50px]]', '[[Imagem:Braille Ü.svg|50px]]', '[[Imagem:Braille I9.svg|50px]]', '[[Imagem:Braille J0.svg|50px]]', '[[Imagem:Braille W.svg|50px]]', '[[Imagem:Braille K.svg|50px]]', '[[Imagem:Braille L.svg|50px]]', '[[Imagem:Braille M.svg|50px]]', '[[Imagem:Braille N.svg|50px]]', '[[Imagem:Braille O.svg|50px]]', '[[Imagem:Braille P.svg|50px]]', '[[Imagem:Braille R.svg|50px]]', '[[Imagem:Braille S.svg|50px]]', '[[Imagem:Braille È.svg|50px]]', '[[Imagem:Braille T.svg|50px]]', '[[Imagem:Braille U.svg|50px]]', '[[Imagem:Braille Ò.svg|50px]]', '[[Imagem:Braille V.svg|50px]]', '[[Imagem:Braille Z.svg|50px]]', '[[imperialismo cultural]]', '[[Nova Délhi]]', '[[1968]]', '[[Organização das Nações Unidas]]', '[[Dólar dos Estados Unidos|dólares dos Estados Unidos]]', '[[Organização das Nações Unidas]]', '[[Claude Piron]]', '[[Bélgica]]', '[[neurose]]', '[[Europa]]', '[[Ásia Oriental]]', '[[Américas]]', '[[África]]', '[[Oceania]]', '[[Zona urbana|áreas urbanas]]', '[[Zona rural|rurais]]', '[[China]]', '[[Coreia]]', '[[Japão]]', '[[Irã]]', '[[Brasil]]', '[[Argentina]]', '[[México]]', '[[Togo]]', '[[Madagascar]]', '[[Universidade de Washington]]', '[[escala ILR|nível 3 da escala ILR]]', '[[The World Almanac and Book of Facts]]', \"[[Imagem:Jomo.jpg|thumb|direita|300px|O cantor de ''[[rock]]\", '[[2001]]', '[[cultura]]', '[[literatura]]', '[[Nobel de Literatura]]', '[[Manifesto de Praga]]', \"[[Imagem:Group photo on IS 2005-2006 in Xanten.jpg|thumb|esquerda|350px|49º ''Internacia Seminario'' ([[2005]]\", '[[2006]]', '[[Xanten]]', '[[Alemanha]]', '[[democracia]]', '[[igualdade]]', '[[nações]]', '[[Língua inglesa|inglês]]', '[[Manifesto de Praga]]', '[[Congresso Universal de Esperanto|Congressos Universais de Esperanto]]', '[[Discursos de Zamenhof]]', '[[Islão]]', '[[Imagem:Kongreso de Esperanto S ubt.jpeg|thumb|300px|Memorial de [[1959]]', '[[Sopot]]', '[[Polônia]]', '[[1911]]', '[[Irlanda]]', '[[1893]]', '[[Louis de Beaufront]]', '[[século XIX]]', '[[1904]]', '[[Imagem:Esperanto flag - Proportions.png|thumb|esquerda|300px|Bandeira com [[Proporcionalidade|proporções]]', '[[Bolonha-sobre-o-Mar]]', '[[França]]', \"[[Imagem:Jubilea simbolo.svg|thumb|300px|Uma das versões do ''jubilea simbolo''.]]\", '[[jubilea simbolo]]', '[[Guerra Fria]]', '[[1983]]', '[[1987]]', '[[anarquismo]]', '[[Associação Universal de Esperanto]]', '[[Operário|trabalhadores]]', '[[América do Sul]]', '[[Associação Apátrida Mundial|Sennacieca Asocio Tutmonda]]', '[[década de 1920]]', '[[Centro de Mídia Independente]]', '[[Alto Paraíso de Goiás]]', '[[Goiás]]', '[[Goiânia]]', '[[Brasília]]', '[[Região nordeste do Brasil|nordestino]]', '[[Imagem:Congreso Catolico Esperantista.jpg|thumb|esquerda|320px|[[Cartão-postal]]', '[[Roma]]', '[[1910]]', '[[João Paulo II]]', '[[Bento XVI]]', '[[urbi et orbi]]', '[[Nigéria|nigeriano]]', '[[1908]]', '[[Espiritismo|espírita]]', '[[Gabriel Delanne]]', '[[Charleroi]]', '[[Reformador]]', '[[1909]]', '[[Brasil]]', '[[Ismael Gomes Braga]]', '[[Francisco Valdomiro Lorenz]]', '[[checo|checa]]', '[[Federação Espírita Brasileira]]', '[[obras básicas do espiritismo]]', '[[Federação Espírita Brasileira]]', \"[[Fé Bahá'í]]\", '[[Lidja Zamenhof]]', '[[homaranismo]]', '[[Ayatollah Khomeini]]', '[[Irã]]', '[[Islamismo|islâmicos]]', '[[Qom]]', '[[Corão]]', '[[oomoto]]', '[[Congregação Cristã no Brasil]]', '[[Bíblia]]', '[[Tanakh]]', '[[British and Foreign Bible Society]]', '[[1910]]', '[[1926]]', '[[Novo Testamento]]', '[[Década de 1960|anos 1960]]', '[[Ecumenismo|ecumênica]]', '[[pastor]]', '[[luterano]]', '[[Evangelhos]]', \"[[Imagem:PS mapo 2015.png|thumb|direita|300px|Mapa que indica onde há anfitriões do ''Pasporta Servo'' (2015).]]\", '[[Imagem:Pola Radio en Esperanto.jpg|thumb|esquerda|300px|[[Łukasz Żebrowski]]', '[[Radio Polonia]]', '[[Varsóvia]]', '[[Pasporta Servo]]', '[[internet]]', '[[imprensa]]', '[[Estado]]', '[[Subvenção|subvencionam]]', '[[República Popular da China]]', '[[Polónia]]', '[[Cuba]]', '[[Itália]]', '[[Vaticano]]', '[[Rádio Rio de Janeiro]]', '[[Congresso Universal de Esperanto]]', '[[etnia]]', '[[intérprete]]', '[[Propedêutica|propedêutico]]', '[[grupo-controle]]', '[[Federação Espírita Brasileira]]', '[[Japão]]', '[[Ludwik Lejzer Zamenhof]]', '[[:en:Muztar_Abbasi|Muztar Abbasi]]', '[[Alcorão]]', '[[:en:William_Auld|William Auld]]', '[[Prêmio Nobel de Literatura]]', '[[:en:Julio_Baghy|Julio Baghy]]', '[[Academia de Esperanto]]', '[[Henri Barbusse]]', '[[Kazimierz Bein]]', '[[:en:Émile_Boirac|Émile Boirac]]', '[[Elvezio Canonica]]', '[[:en:Bordeaux_Montaigne_University|Université Bordeaux Montaigne]]', '[[Jean-Sebo]]', '[[Elvezio Canonica]]', '[[Antoni Grabowski]]', '[[Boris Kolker]]', '[[:en:John_Edgar_McFadyen|John Edgar McFadyen]]', '[[:en:Frederic_Pujulà_i_Vallés|Frederico Pujulà i Vallés]]', '[[Wikipédia em esperanto]]', '[[Duolingo]]', '[[:en:Sándor_Szathmári|Sándor Szathmári]]', '[[Arno Philipp]]', '[[Everardo Backheuser]]', '[[reforma urbana]]', '[[Rio de Janeiro (cidade)|Rio de Janeiro]]', '[[O Paiz]]', '[[Academia Brasileira de Ciências]]', '[[José Artur Boiteux]]', '[[Santa Catarina]]', '[[:en:Kazimierz_Badowski|Kazimierz Badowski]]', '[[:en:Communist_Party_of_Poland|Partido Comunista da Polônia]]', '[[Trotskismo|movimento trotskista]]', '[[:en:Richard_Bartholdt|Richard Bartholdt]]', '[[EUA]]', '[[Missouri]]', '[[Robert Cecil]]', '[[Liga das Nações]]', '[[Prémio Nobel da Paz]]', '[[:en:Parley_Parker_Christensen|Parley Parker Christensen]]', '[[Willem Drees]]', '[[Países Baixos]]', '[[:en:Małgorzata_Handzlik|Małgorzata Handzlik]]', '[[Jean Jaurès]]', '[[Estugarda|Stuttgart]]', '[[Franz Jonas]]', '[[República da Áustria]]', '[[Heinz Fischer]]', '[[República da Áustria]]', '[[Ho Chi Minh]]', '[[Vietnã]]', '[[Josip Broz Tito]]', '[[Iugoslávia]]', '[[Guimarães Rosa]]', '[[Grande Sertão: Veredas]]', '[[Francisco Lorenz|František Lorenz]]', '[[Império Austro-Húngaro]]', '[[Júlio Verne]]', '[[Marco Lucchesi]]', '[[Lista de membros da Academia Brasileira de Letras|sétimo ocupante da cadeira de Gonçalves Dias]]', '[[Academia Brasileira de Letras]]', '[[Lista de presidentes da Academia Brasileira de Letras|presidente]]', '[[J. R. R. Tolkien]]', '[[fantasia]]', '[[O Hobbit]]', '[[O Senhor dos Anéis]]', '[[O Silmarillion]]', '[[Petr Ginz]]', '[[Ônibus Espacial Columbia]]', '[[:en:Kenji_Miyazawa|Kenji Miyazawa]]', '[[Literatura infantojuvenil|literatura infantil]]', '[[:en:Nadija_Hordijenko_Andrianova|Nadija Hordijenko Andrianova]]', '[[:en:Maria_Angelova|Maria Angelova]]', '[[Ba Jin]]', '[[Henri Barbusse]]', '[[Louis de Beaufront]]', '[[:en:Gerrit_Berveling|Gerrit Berveling]]', '[[:en:Marjorie_Boulton|Marjorie Boulton]]', '[[Jorge Camacho]]', '[[:en:Vasili_Eroshenko|Vasili Eroshenko]]', '[[:en:Don_Harlow|Don Harlow]]', '[[webmaster]]', '[[:en:Hector_Hodler|Hector Hodler]]', '[[Hans Jakob]]', '[[:en:Kálmán_Kalocsay|Kálmán Kalocsay]]', '[[:en:Georges_Lagrange|Georges Lagrange]]', '[[Academia de Esperanto]]', '[[:en:Nikolai_Vladimirovich_Nekrasov|Nikolai Vladimirovich Nekrasov]]', '[[União Soviética]]', '[[:en:Mauro_Nervi|Mauro Nervi]]', '[[Edmond Privat]]', '[[:en:Cezaro_Rossetti|Cezaro Rossetti]]', '[[:en:René_de_Saussure|René de Saussure]]', '[[:en:Teodoro_Schwartz|Teodoro Schwartz]]', '[[judeu]]', '[[William Thomas Stead]]', '[[RMS Titanic]]', '[[:en:Þórbergur_Þórðarson|Þórbergur Þórðarson]]', '[[Leo Tolstoy]]', '[[:en:Julian_Tuwim|Julian Tuwim]]', '[[:en:Vladimir_Varankin|Vladimir Varankin]]', '[[Louis Lumière]]', '[[Egon Schaden]]', '[[Yrjö Väisälä]]', '[[asteroides]]', '[[1421 Esperanto]]', '[[1462 Zamenhof]]', '[[Reinhard Selten]]', '[[Prêmio Nobel de Economia]]', '[[teoria dos jogos]]', '[[Daniel Bovet]]', '[[Prêmio Nobel]]', '[[:en:Sidney_S._Culbert|Sidney S. Culbert]]', '[[Bertalan Farkas]]', '[[Wilhelm Ostwald]]', '[[catálise química]]', '[[Claude Piron]]', '[[Nações Unidas]]', '[[Leonardo Torres y Quevedo]]', '[[:en:John_C._Wells|John C. Wells]]', '[[:en:Vladimir_Köppen|Vladimir Köppen]]', '[[Marcel Minnaert]]', '[[Utrecht]]', \"[[Fé Bahá'í]]\", '[[:en:Lidia_Zamenhof|Lidia Zamenhof]]', \"[[Bahá'u'lláh]]\", \"[[`Abdu'l-Bahá]]\", '[[:en:John_Esslemont|John Esslemont]]', '[[Rudolf Carnap]]', '[[Onisaburo Deguchi]]', '[[Oomoto]]', '[[Japão]]', '[[Universala Homama Asocio]]', '[[:en:Alfred_Fried|Alfred Fried]]', '[[Prêmio Nobel da Paz]]', '[[Ebenezer Howard]]', '[[Papa João Paulo II]]', '[[:en:Franko_Luin|Franko Luin]]', '[[:en:John_Eyton_Bickersteth_Mayor|John Eyton Bickersteth Mayor]]', '[[Congresso Mundial de Esperanto]]', '[[Cambridge]]', '[[:en:Alexander_Nedoshivin|Alexander Nedoshivin]]', '[[Lituânia]]', '[[:en:Seok_Joo-myung|Seok Joo-myung]]', '[[Coreia]]', '[[:en:William_Main_Page|William Main Page]]', '[[László Polgár]]', '[[Susan Polgar]]', '[[William Shatner]]', '[[George Soros]]', '[[Daniel Tammet]]', \"[[savantismo|autista ''savant'']]\", '[[Ludwik Lejzer Zamenhof]]', '[[Antoni Grabowski]]', '[[Valor propedêutico do esperanto]]', '[[Ido]]', '[[Diferenças entre o esperanto e o ido]]', '[[Esperanto reformado]]', '[[Gramática do esperanto]]', '[[Categoria:Esperanto| ]]', '[[Categoria:Línguas auxiliares internacionais]]', '[[Categoria:Introduções em 1887]]']\n"
     ]
    }
   ],
   "source": [
    "print(find_links(data[2]['body']))"
   ]
  },
  {
   "cell_type": "markdown",
   "metadata": {},
   "source": [
    "**Exercicio:** Faça uma função que recebe um texto do corpus e substitui todas as ocorrências de links da Wikipedia (textos entre os tags `[[` e `]]`) por texto simples, e retorna o documento limpo. Por exemplo, quando encontrar algo como `[[Etimologia|Etimologicamente]]` substituir por `Etimologicamente`. Você pode supor que os links não são *aninháveis*, como por exemplo `[[blablabla[[etc]]blebleble]]`."
   ]
  },
  {
   "cell_type": "code",
   "execution_count": 7,
   "metadata": {},
   "outputs": [],
   "source": [
    "def replace_links(text):\n",
    "    \n",
    "    clean = text\n",
    "    \n",
    "    links = find_links(text)\n",
    "    words = []\n",
    "    for i in links:\n",
    "        a = re.search(r'(?<=\\[\\[).+?(?=\\]\\])', i)\n",
    "        if '|' in a.group(0):\n",
    "            b = a.group(0).rfind('|') + 1\n",
    "        else:\n",
    "            b = 0\n",
    "        words.append(a.group(0)[b:])\n",
    "\n",
    "    for i in range(len(links)):\n",
    "        clean = clean.replace(links[i], words[i])\n",
    "    \n",
    "    return clean"
   ]
  },
  {
   "cell_type": "markdown",
   "metadata": {},
   "source": [
    "**Exercicio**: Faça uma função que recebe um texto do corpus e remove todas as ocorrências de referências (textos entre os tags `<ref>` e `</ref>`)."
   ]
  },
  {
   "cell_type": "code",
   "execution_count": 8,
   "metadata": {},
   "outputs": [],
   "source": [
    "def remove_ref(text):\n",
    "    return re.sub(r'<ref.*>.*</ref>', '', text)"
   ]
  },
  {
   "cell_type": "code",
   "execution_count": 9,
   "metadata": {},
   "outputs": [],
   "source": [
    "#replace vss sub\n",
    "def remove_italic_bold(text):\n",
    "    return re.sub(r\"\\'\\'+\", '', text)"
   ]
  },
  {
   "cell_type": "code",
   "execution_count": 10,
   "metadata": {},
   "outputs": [],
   "source": [
    "def remove_endline(text):\n",
    "    return text.replace('\\n','')"
   ]
  },
  {
   "cell_type": "code",
   "execution_count": 11,
   "metadata": {},
   "outputs": [],
   "source": [
    "def remove_double_equal(text):\n",
    "    return text.replace('==','')"
   ]
  },
  {
   "cell_type": "markdown",
   "metadata": {},
   "source": [
    "**Exercicio:** Faça uma função que recebe um texto do corpus e remove todos os templates (textos entre os tags `{{` e `}}`). Este exercício é desafiante: *os templates podem ser aninhados*! E agora, como proceder?"
   ]
  },
  {
   "cell_type": "code",
   "execution_count": 12,
   "metadata": {},
   "outputs": [],
   "source": [
    "def remove_templates(text):\n",
    "    a = text\n",
    "    while re.search(r'\\{\\{[^\\{\\{\\}\\}]*\\}\\}', a):\n",
    "        to_replace = re.findall(r'\\{\\{[^\\{\\{\\}\\}]*\\}\\}', a)\n",
    "        for i in to_replace:\n",
    "            a = a.replace(i, '')\n",
    "    \n",
    "    return a"
   ]
  },
  {
   "cell_type": "markdown",
   "metadata": {},
   "source": [
    "**Exercicio:** Usando os codigos desenvolvidos acima, faça uma função que recebe um texto do corpus e retorna a sua versão limpa."
   ]
  },
  {
   "cell_type": "code",
   "execution_count": 13,
   "metadata": {},
   "outputs": [],
   "source": [
    "def clear_text(text):\n",
    "    clean_links = replace_links(text)\n",
    "    remove_quotes = remove_italic_bold(clean_links)\n",
    "    remove_ref_ = remove_ref(remove_quotes)\n",
    "    remove_endline_ = remove_endline(remove_ref_)\n",
    "    remove_double_equal_ = remove_double_equal(remove_endline_)\n",
    "    return remove_templates(remove_double_equal_)"
   ]
  },
  {
   "cell_type": "markdown",
   "metadata": {},
   "source": [
    "**Exercicio:** Limpe todos os documentos e explore os resultados para ver o que mais dá para limpar. Nosso objetivo é ter uma coletânea de textos limpos para poder criar um vocabulário da língua portuguesa!"
   ]
  },
  {
   "cell_type": "code",
   "execution_count": 14,
   "metadata": {},
   "outputs": [],
   "source": [
    "import json\n",
    "with open('dump_small_clean.jsonln', 'w') as file:\n",
    "    for i in range(10):\n",
    "        json.dump({\"body\": clear_text(data[i]['body']), \"title\": data[i][\"title\"]}, file)"
   ]
  },
  {
   "cell_type": "code",
   "execution_count": null,
   "metadata": {},
   "outputs": [],
   "source": []
  },
  {
   "cell_type": "markdown",
   "metadata": {},
   "source": [
    "# Criando um tokenizador"
   ]
  },
  {
   "cell_type": "markdown",
   "metadata": {},
   "source": [
    "Agora que temos um conjunto de documentos limpos, vamos analisar esses documentos para:\n",
    "\n",
    "- Separar os documentos em palavras\n",
    "\n",
    "- Separar os documentos em frases"
   ]
  },
  {
   "cell_type": "markdown",
   "metadata": {},
   "source": [
    "**Exercicio:** Faça uma função que separa os documentos em palavras usando simplesmente os espaços em branco como indicador de separação."
   ]
  },
  {
   "cell_type": "code",
   "execution_count": null,
   "metadata": {},
   "outputs": [],
   "source": []
  },
  {
   "cell_type": "markdown",
   "metadata": {},
   "source": [
    "**Exercicio:** Agora analise os resultados obtidos: essa separação em palavras está perfeita? Certamente não:\n",
    "\n",
    "- Um problema óbvio é o seguinte: palavras ao final de uma sentença podem carregar consigo a pontuação da frase. \n",
    "\n",
    "- Mais ainda, algumas palavras no meio das sentenças podem ter vírgula e ponto-e-vírgula juntos.\n",
    "\n",
    "- Sequências de emojis podem aparecer, e cada emoji deve ser considerado como uma palavra separada\n",
    "\n",
    "Faça uma função que recebe um documento e faz uma separação melhor."
   ]
  },
  {
   "cell_type": "code",
   "execution_count": null,
   "metadata": {},
   "outputs": [],
   "source": []
  }
 ],
 "metadata": {
  "kernelspec": {
   "display_name": "Python 3",
   "language": "python",
   "name": "python3"
  },
  "language_info": {
   "codemirror_mode": {
    "name": "ipython",
    "version": 3
   },
   "file_extension": ".py",
   "mimetype": "text/x-python",
   "name": "python",
   "nbconvert_exporter": "python",
   "pygments_lexer": "ipython3",
   "version": "3.8.2"
  }
 },
 "nbformat": 4,
 "nbformat_minor": 5
}
